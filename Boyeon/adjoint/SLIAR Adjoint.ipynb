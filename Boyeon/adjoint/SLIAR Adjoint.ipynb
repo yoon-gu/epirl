{
 "cells": [
  {
   "cell_type": "code",
   "execution_count": 2,
   "id": "a8cbceb1",
   "metadata": {},
   "outputs": [],
   "source": [
    "import numpy as np\n",
    "from scipy.integrate import odeint\n",
    "from scipy.interpolate import interp1d"
   ]
  },
  {
   "cell_type": "code",
   "execution_count": 3,
   "id": "3c89c4a5",
   "metadata": {},
   "outputs": [],
   "source": [
    "def sliar(y, t, beta, sigma, kappa, alpha, tau, p, eta, epsilon, q, delta, nu_interp):\n",
    "    S, L, I , A = y\n",
    "    dydt = np.array([- beta * (1-sigma) * S * (epsilon * L + (1 - q) * I + delta * A) - nu_interp(t) * S,\n",
    "                    beta * (1-sigma) * S * (epsilon * L + (1 - q) * I + delta * A) - kappa * L,\n",
    "                    p * kappa * L - alpha * I - tau * I,\n",
    "                    (1 - p) * kappa * L  - eta * A])\n",
    "    return dydt"
   ]
  },
  {
   "cell_type": "code",
   "execution_count": 4,
   "id": "df629cc5",
   "metadata": {},
   "outputs": [],
   "source": [
    "def adjoint_sliar(y, t, x_interp, beta, sigma, kappa, alpha, tau, p, eta, epsilon, q, delta, P, nu_interp):\n",
    "    l_S, l_L, l_I, l_A  = y\n",
    "    S, L, I, A = x_interp(t)\n",
    "    nu = nu_interp(t)\n",
    "    dHdS = beta * (1 - sigma) * (epsilon * L + (1 - q) * I + delta * A) * (l_S - l_L) + nu * l_S\n",
    "    dHdL = beta * (1 - sigma) * epsilon * S * (l_S - l_L) - kappa * p * (l_I - l_A) + kappa * (l_L - l_A)\n",
    "    dHdI = -P + beta * (1 - q) * (1 - sigma) * S * (l_S - l_L) + l_I * (alpha + tau)\n",
    "    dHdR = beta * (1 - sigma) * delta * S * (l_S - l_L) + eta * l_A\n",
    "    return np.array([dHdS, dHdL, dHdI, dHdR])"
   ]
  },
  {
   "cell_type": "code",
   "execution_count": 5,
   "id": "df8dacf6",
   "metadata": {},
   "outputs": [],
   "source": [
    "import sympy as sp\n",
    "\n",
    "S, L, I, A, nu = sp.symbols('S L I A nu')\n",
    "beta, sigma, kappa, alpha, tau, p, eta, epsilon, q, delta, P, Q = sp.symbols('beta, sigma, kappa, alpha, tau, p, eta, epsilon, q, delta, P, Q')\n",
    "\n",
    "l_S, l_L, l_I, l_A = sp.symbols('lambda_S lambda_L lambda_I lambda_A')\n",
    "l = sp.Matrix([l_S, l_L, l_I, l_A])\n",
    "\n",
    "f = P*I + Q * nu**2\n",
    "g = sp.Matrix([- beta * (1-sigma) * S * (epsilon * L + (1 - q) * I + delta * A) - nu * S,\n",
    "                beta * (1-sigma) * S * (epsilon * L + (1 - q) * I + delta * A) - kappa * L,\n",
    "                p * kappa * L - alpha * I - tau * I,\n",
    "                (1 - p) * kappa * L  - eta * A])\n",
    "\n",
    "H = sp.Matrix([f + l.dot(g)])"
   ]
  },
  {
   "cell_type": "code",
   "execution_count": 11,
   "id": "a5316041",
   "metadata": {},
   "outputs": [
    {
     "data": {
      "text/latex": [
       "$\\displaystyle \\left[\\begin{matrix}I P + Q \\nu^{2} + \\lambda_{A} \\left(- A \\eta + L \\kappa \\left(1 - p\\right)\\right) + \\lambda_{I} \\left(- I \\alpha - I \\tau + L \\kappa p\\right) + \\lambda_{L} \\left(- L \\kappa + S \\beta \\left(1 - \\sigma\\right) \\left(A \\delta + I \\left(1 - q\\right) + L \\epsilon\\right)\\right) + \\lambda_{S} \\left(- S \\beta \\left(1 - \\sigma\\right) \\left(A \\delta + I \\left(1 - q\\right) + L \\epsilon\\right) - S \\nu\\right)\\end{matrix}\\right]$"
      ],
      "text/plain": [
       "Matrix([[I*P + Q*nu**2 + lambda_A*(-A*eta + L*kappa*(1 - p)) + lambda_I*(-I*alpha - I*tau + L*kappa*p) + lambda_L*(-L*kappa + S*beta*(1 - sigma)*(A*delta + I*(1 - q) + L*epsilon)) + lambda_S*(-S*beta*(1 - sigma)*(A*delta + I*(1 - q) + L*epsilon) - S*nu)]])"
      ]
     },
     "execution_count": 11,
     "metadata": {},
     "output_type": "execute_result"
    }
   ],
   "source": [
    "H"
   ]
  },
  {
   "cell_type": "code",
   "execution_count": 10,
   "id": "0c7fa9ff",
   "metadata": {},
   "outputs": [
    {
     "data": {
      "text/plain": [
       "'\\\\left[\\\\begin{matrix}I P + Q \\\\nu^{2} + \\\\lambda_{A} \\\\left(- A \\\\eta + L \\\\kappa \\\\left(1 - p\\\\right)\\\\right) + \\\\lambda_{I} \\\\left(- I \\\\alpha - I \\\\tau + L \\\\kappa p\\\\right) + \\\\lambda_{L} \\\\left(- L \\\\kappa + S \\\\beta \\\\left(1 - \\\\sigma\\\\right) \\\\left(A \\\\delta + I \\\\left(1 - q\\\\right) + L \\\\epsilon\\\\right)\\\\right) + \\\\lambda_{S} \\\\left(- S \\\\beta \\\\left(1 - \\\\sigma\\\\right) \\\\left(A \\\\delta + I \\\\left(1 - q\\\\right) + L \\\\epsilon\\\\right) - S \\\\nu\\\\right)\\\\end{matrix}\\\\right]'"
      ]
     },
     "execution_count": 10,
     "metadata": {},
     "output_type": "execute_result"
    }
   ],
   "source": [
    "sp.latex(H)"
   ]
  },
  {
   "cell_type": "code",
   "execution_count": 9,
   "id": "60ebe18b",
   "metadata": {},
   "outputs": [
    {
     "data": {
      "text/latex": [
       "$\\displaystyle \\left[\\begin{matrix}\\beta \\lambda_{L} \\left(1 - \\sigma\\right) \\left(A \\delta + I \\left(1 - q\\right) + L \\epsilon\\right) + \\lambda_{S} \\left(- \\beta \\left(1 - \\sigma\\right) \\left(A \\delta + I \\left(1 - q\\right) + L \\epsilon\\right) - \\nu\\right) & - S \\beta \\epsilon \\lambda_{S} \\left(1 - \\sigma\\right) + \\kappa \\lambda_{A} \\left(1 - p\\right) + \\kappa \\lambda_{I} p + \\lambda_{L} \\left(S \\beta \\epsilon \\left(1 - \\sigma\\right) - \\kappa\\right) & P + S \\beta \\lambda_{L} \\left(1 - q\\right) \\left(1 - \\sigma\\right) - S \\beta \\lambda_{S} \\left(1 - q\\right) \\left(1 - \\sigma\\right) + \\lambda_{I} \\left(- \\alpha - \\tau\\right) & S \\beta \\delta \\lambda_{L} \\left(1 - \\sigma\\right) - S \\beta \\delta \\lambda_{S} \\left(1 - \\sigma\\right) - \\eta \\lambda_{A}\\end{matrix}\\right]$"
      ],
      "text/plain": [
       "Matrix([[beta*lambda_L*(1 - sigma)*(A*delta + I*(1 - q) + L*epsilon) + lambda_S*(-beta*(1 - sigma)*(A*delta + I*(1 - q) + L*epsilon) - nu), -S*beta*epsilon*lambda_S*(1 - sigma) + kappa*lambda_A*(1 - p) + kappa*lambda_I*p + lambda_L*(S*beta*epsilon*(1 - sigma) - kappa), P + S*beta*lambda_L*(1 - q)*(1 - sigma) - S*beta*lambda_S*(1 - q)*(1 - sigma) + lambda_I*(-alpha - tau), S*beta*delta*lambda_L*(1 - sigma) - S*beta*delta*lambda_S*(1 - sigma) - eta*lambda_A]])"
      ]
     },
     "execution_count": 9,
     "metadata": {},
     "output_type": "execute_result"
    }
   ],
   "source": [
    "dHdx = H.jacobian([S, L, I, A])\n",
    "dHdx"
   ]
  },
  {
   "cell_type": "code",
   "execution_count": 57,
   "id": "c226f61c",
   "metadata": {},
   "outputs": [
    {
     "data": {
      "text/latex": [
       "$\\displaystyle \\left[\\begin{matrix}- S \\beta \\left(1 - \\sigma\\right) \\left(A \\delta + I \\left(1 - q\\right) + L \\epsilon\\right) - S \\nu & - L \\kappa + S \\beta \\left(1 - \\sigma\\right) \\left(A \\delta + I \\left(1 - q\\right) + L \\epsilon\\right) & - I \\alpha - I \\tau + L \\kappa p & - A \\eta + L \\kappa \\left(1 - p\\right)\\end{matrix}\\right]$"
      ],
      "text/plain": [
       "Matrix([[-S*beta*(1 - sigma)*(A*delta + I*(1 - q) + L*epsilon) - S*nu, -L*kappa + S*beta*(1 - sigma)*(A*delta + I*(1 - q) + L*epsilon), -I*alpha - I*tau + L*kappa*p, -A*eta + L*kappa*(1 - p)]])"
      ]
     },
     "execution_count": 57,
     "metadata": {},
     "output_type": "execute_result"
    }
   ],
   "source": [
    "dHdl = H.jacobian([l_S, l_L, l_I, l_A])\n",
    "dHdl"
   ]
  },
  {
   "cell_type": "code",
   "execution_count": 58,
   "id": "2f32ce40",
   "metadata": {},
   "outputs": [
    {
     "data": {
      "text/latex": [
       "$\\displaystyle \\left[\\begin{matrix}2 Q \\nu - S \\lambda_{S}\\end{matrix}\\right]$"
      ],
      "text/plain": [
       "Matrix([[2*Q*nu - S*lambda_S]])"
      ]
     },
     "execution_count": 58,
     "metadata": {},
     "output_type": "execute_result"
    }
   ],
   "source": [
    "dHdnu = H.jacobian([nu])\n",
    "dHdnu"
   ]
  },
  {
   "cell_type": "code",
   "execution_count": 59,
   "id": "c7f28c70",
   "metadata": {},
   "outputs": [],
   "source": [
    "dHdx_fn = sp.lambdify([l_S, l_L, l_I, l_A, S, L, I, A, beta, sigma, kappa, alpha, tau, p, eta, epsilon, q, delta, P, Q, nu], dHdx)\n",
    "dHdl_fn = sp.lambdify([l_S, l_L, l_I, l_A, S, L, I, A, beta, sigma, kappa, alpha, tau, p, eta, epsilon, q, delta, P, Q, nu], dHdl)\n",
    "dHdnu_fn = sp.lambdify([l_S, l_L, l_I, l_A, S, L, I, A, beta, sigma, kappa, alpha, tau, p, eta, epsilon, q, delta, P, Q, nu], dHdnu)"
   ]
  },
  {
   "cell_type": "code",
   "execution_count": 60,
   "id": "5b7110d6",
   "metadata": {},
   "outputs": [],
   "source": [
    "def sliar_by_sympy(y, t, beta_, sigma_, kappa_, alpha_, tau_, p_, eta_, epsilon_, q_, delta_, P, Q, nu_interp):\n",
    "    S_, L_, I_, A_ = y\n",
    "    nu_ = nu_interp(t)\n",
    "    return dHdl_fn(0, 0, 0, 0, S_, L_, I_, A_, beta_, sigma_, kappa_, alpha_, tau_, p_, eta_, epsilon_, q_, delta_, P, Q, nu_)[0]"
   ]
  },
  {
   "cell_type": "code",
   "execution_count": 61,
   "id": "0823e17e",
   "metadata": {},
   "outputs": [],
   "source": [
    "def adjoint_sliar_by_sympy(y, t, x_interp, beta_, sigma_, kappa_, alpha_, tau_, p_, eta_, epsilon_, q_, delta_, P_, Q_, nu_interp):\n",
    "    l_S_, l_L_, l_I_, l_A_  = y\n",
    "    S_, L_, I_, A_ = x_interp(t)\n",
    "    nu_ = nu_interp(t)\n",
    "    val = -dHdx_fn(l_S_, l_L_, l_I_, l_A_, S_, L_, I_, A_, beta_, sigma_, kappa_, alpha_, tau_, p_, eta_, epsilon_, q_, delta_, P_, Q_, nu_)[0]\n",
    "    return val"
   ]
  },
  {
   "cell_type": "code",
   "execution_count": 62,
   "id": "9e509f73",
   "metadata": {},
   "outputs": [
    {
     "data": {
      "text/plain": [
       "7.265818454613654e-07"
      ]
     },
     "execution_count": 62,
     "metadata": {},
     "output_type": "execute_result"
    }
   ],
   "source": [
    "t0 = 0\n",
    "tf = 300\n",
    "S0 = 1000000\n",
    "L0 = 0\n",
    "I0 = 1\n",
    "A0 = 0\n",
    "sigma = 0 \n",
    "kappa = 0.526\n",
    "alpha = 0.244\n",
    "tau = 0\n",
    "p = 0.667\n",
    "eta = 0.244\n",
    "epsilon = 0\n",
    "q = 0.5\n",
    "delta = 1\n",
    "R0 = 1.9847\n",
    "beta = R0/(S0 * ((epsilon / kappa) + ((1 - q)*p/alpha) + (delta*(1-p)/eta)))\n",
    "P = 1\n",
    "Q = 1\n",
    "beta"
   ]
  },
  {
   "cell_type": "code",
   "execution_count": 63,
   "id": "59f40d36",
   "metadata": {},
   "outputs": [
    {
     "name": "stdout",
     "output_type": "stream",
     "text": [
      "[1000000       0       1       0]\n",
      "1.0\n",
      "[1. 1. 1. 1. 1. 1. 1. 1. 1. 1. 1. 1. 1. 1. 1. 1. 1. 1. 1. 1. 1. 1. 1. 1.\n",
      " 1. 1. 1. 1. 1. 1. 1. 1. 1. 1. 1. 1. 1. 1. 1. 1. 1. 1. 1. 1. 1. 1. 1. 1.\n",
      " 1. 1. 1. 1. 1. 1. 1. 1. 1. 1. 1. 1. 1. 1. 1. 1. 1. 1. 1. 1. 1. 1. 1. 1.\n",
      " 1. 1. 1. 1. 1. 1. 1. 1. 1. 1. 1. 1. 1. 1. 1. 1. 1. 1. 1. 1. 1. 1. 1. 1.\n",
      " 1. 1. 1. 1. 1. 1. 1. 1. 1. 1. 1. 1. 1. 1. 1. 1. 1. 1. 1. 1. 1. 1. 1. 1.\n",
      " 1. 1. 1. 1. 1. 1. 1. 1. 1. 1. 1. 1. 1. 1. 1. 1. 1. 1. 1. 1. 1. 1. 1. 1.\n",
      " 1. 1. 1. 1. 1. 1. 1. 1. 1. 1. 1. 1. 1. 1. 1. 1. 1. 1. 1. 1. 1. 1. 1. 1.\n",
      " 1. 1. 1. 1. 1. 1. 1. 1. 1. 1. 1. 1. 1. 1. 1. 1. 1. 1. 1. 1. 1. 1. 1. 1.\n",
      " 1. 1. 1. 1. 1. 1. 1. 1. 1. 1. 1. 1. 1. 1. 1. 1. 1. 1. 1. 1. 1. 1. 1. 1.\n",
      " 1. 1. 1. 1. 1. 1. 1. 1. 1. 1. 1. 1. 1. 1. 1. 1. 1. 1. 1. 1. 1. 1. 1. 1.\n",
      " 1. 1. 1. 1. 1. 1. 1. 1. 1. 1. 1. 1. 1. 1. 1. 1. 1. 1. 1. 1. 1. 1. 1. 1.\n",
      " 1. 1. 1. 1. 1. 1. 1. 1. 1. 1. 1. 1. 1. 1. 1. 1. 1. 1. 1. 1. 1. 1. 1. 1.\n",
      " 1. 1. 1. 1. 1. 1. 1. 1. 1. 1. 1. 1. 1.]\n"
     ]
    }
   ],
   "source": [
    "# Initial\n",
    "y0 = np.array([S0, L0, I0, A0])\n",
    "t = np.linspace(t0, tf, 301)\n",
    "dt = t[1] - t[0]\n",
    "#np.ones_like() : 동일한 사이즈로 ones 매트릭스 만듬\n",
    "nu0 = np.ones_like(t)\n",
    "nu0_ = np.zeros_like(t)\n",
    "print(y0)\n",
    "print(dt)\n",
    "print(nu0)"
   ]
  },
  {
   "cell_type": "code",
   "execution_count": 64,
   "id": "e3236ba4",
   "metadata": {},
   "outputs": [
    {
     "name": "stdout",
     "output_type": "stream",
     "text": [
      "[[1.00000000e+06 0.00000000e+00 1.00000000e+00 0.00000000e+00]\n",
      " [9.99999665e+05 2.58671650e-01 8.29994330e-01 2.32184847e-02]\n",
      " [9.99999346e+05 4.01476938e-01 7.55668385e-01 7.08014473e-02]\n",
      " ...\n",
      " [2.07411026e+05 9.95858481e-06 2.71574583e-05 1.35583712e-05]\n",
      " [2.07411026e+05 8.87270923e-06 2.41961069e-05 1.20799154e-05]\n",
      " [2.07411026e+05 7.90841444e-06 2.15663196e-05 1.07669932e-05]]\n"
     ]
    }
   ],
   "source": [
    "nu_intp = lambda tc: np.interp(tc, t, nu0_)\n",
    "sol = odeint(sliar, y0, t, args=(beta, sigma, kappa, alpha, tau, p, eta, epsilon, q, delta, nu_intp))\n",
    "print(sol)"
   ]
  },
  {
   "cell_type": "code",
   "execution_count": 67,
   "id": "3e34192b",
   "metadata": {},
   "outputs": [
    {
     "ename": "ValueError",
     "evalue": "object too deep for desired array",
     "output_type": "error",
     "traceback": [
      "\u001b[0;31m---------------------------------------------------------------------------\u001b[0m",
      "\u001b[0;31mValueError\u001b[0m                                Traceback (most recent call last)",
      "Cell \u001b[0;32mIn [67], line 14\u001b[0m\n\u001b[1;32m     11\u001b[0m \u001b[38;5;28;01mfor\u001b[39;00m it \u001b[38;5;129;01min\u001b[39;00m \u001b[38;5;28mrange\u001b[39m(MaxIter \u001b[38;5;241m+\u001b[39m \u001b[38;5;241m1\u001b[39m):\n\u001b[1;32m     12\u001b[0m     \u001b[38;5;66;03m# State\u001b[39;00m\n\u001b[1;32m     13\u001b[0m     nu_intp \u001b[38;5;241m=\u001b[39m \u001b[38;5;28;01mlambda\u001b[39;00m tc: np\u001b[38;5;241m.\u001b[39minterp(tc, t, nu0)\n\u001b[0;32m---> 14\u001b[0m     sol \u001b[38;5;241m=\u001b[39m \u001b[43modeint\u001b[49m\u001b[43m(\u001b[49m\u001b[43msliar_by_sympy\u001b[49m\u001b[43m,\u001b[49m\u001b[43m \u001b[49m\u001b[43my0\u001b[49m\u001b[43m,\u001b[49m\u001b[43m \u001b[49m\u001b[43mt\u001b[49m\u001b[43m,\u001b[49m\u001b[43m \u001b[49m\u001b[43margs\u001b[49m\u001b[38;5;241;43m=\u001b[39;49m\u001b[43m(\u001b[49m\u001b[43mbeta\u001b[49m\u001b[43m,\u001b[49m\u001b[43m \u001b[49m\u001b[43msigma\u001b[49m\u001b[43m,\u001b[49m\u001b[43m \u001b[49m\u001b[43mkappa\u001b[49m\u001b[43m,\u001b[49m\u001b[43m \u001b[49m\u001b[43malpha\u001b[49m\u001b[43m,\u001b[49m\u001b[43m \u001b[49m\u001b[43mtau\u001b[49m\u001b[43m,\u001b[49m\u001b[43m \u001b[49m\u001b[43mp\u001b[49m\u001b[43m,\u001b[49m\u001b[43m \u001b[49m\u001b[43meta\u001b[49m\u001b[43m,\u001b[49m\u001b[43m \u001b[49m\u001b[43mepsilon\u001b[49m\u001b[43m,\u001b[49m\u001b[43m \u001b[49m\u001b[43mq\u001b[49m\u001b[43m,\u001b[49m\u001b[43m \u001b[49m\u001b[43mdelta\u001b[49m\u001b[43m,\u001b[49m\u001b[43m \u001b[49m\u001b[43mP\u001b[49m\u001b[43m,\u001b[49m\u001b[43m \u001b[49m\u001b[43mQ\u001b[49m\u001b[43m,\u001b[49m\u001b[43m \u001b[49m\u001b[43mnu_intp\u001b[49m\u001b[43m)\u001b[49m\u001b[43m)\u001b[49m\n\u001b[1;32m     16\u001b[0m     \u001b[38;5;66;03m# Cost\u001b[39;00m\n\u001b[1;32m     17\u001b[0m     S, L, I, A \u001b[38;5;241m=\u001b[39m np\u001b[38;5;241m.\u001b[39mhsplit(sol, \u001b[38;5;241m4\u001b[39m)\n",
      "File \u001b[0;32m/opt/anaconda3/envs/epi/lib/python3.10/site-packages/scipy/integrate/_odepack_py.py:241\u001b[0m, in \u001b[0;36modeint\u001b[0;34m(func, y0, t, args, Dfun, col_deriv, full_output, ml, mu, rtol, atol, tcrit, h0, hmax, hmin, ixpr, mxstep, mxhnil, mxordn, mxords, printmessg, tfirst)\u001b[0m\n\u001b[1;32m    239\u001b[0m t \u001b[39m=\u001b[39m copy(t)\n\u001b[1;32m    240\u001b[0m y0 \u001b[39m=\u001b[39m copy(y0)\n\u001b[0;32m--> 241\u001b[0m output \u001b[39m=\u001b[39m _odepack\u001b[39m.\u001b[39;49modeint(func, y0, t, args, Dfun, col_deriv, ml, mu,\n\u001b[1;32m    242\u001b[0m                          full_output, rtol, atol, tcrit, h0, hmax, hmin,\n\u001b[1;32m    243\u001b[0m                          ixpr, mxstep, mxhnil, mxordn, mxords,\n\u001b[1;32m    244\u001b[0m                          \u001b[39mint\u001b[39;49m(\u001b[39mbool\u001b[39;49m(tfirst)))\n\u001b[1;32m    245\u001b[0m \u001b[39mif\u001b[39;00m output[\u001b[39m-\u001b[39m\u001b[39m1\u001b[39m] \u001b[39m<\u001b[39m \u001b[39m0\u001b[39m:\n\u001b[1;32m    246\u001b[0m     warning_msg \u001b[39m=\u001b[39m _msgs[output[\u001b[39m-\u001b[39m\u001b[39m1\u001b[39m]] \u001b[39m+\u001b[39m \u001b[39m\"\u001b[39m\u001b[39m Run with full_output = 1 to get quantitative information.\u001b[39m\u001b[39m\"\u001b[39m\n",
      "Cell \u001b[0;32mIn [60], line 3\u001b[0m, in \u001b[0;36msliar_by_sympy\u001b[0;34m(y, t, beta_, sigma_, kappa_, alpha_, tau_, p_, eta_, epsilon_, q_, delta_, P, Q, nu_interp)\u001b[0m\n\u001b[1;32m      1\u001b[0m \u001b[38;5;28;01mdef\u001b[39;00m \u001b[38;5;21msliar_by_sympy\u001b[39m(y, t, beta_, sigma_, kappa_, alpha_, tau_, p_, eta_, epsilon_, q_, delta_, P, Q, nu_interp):\n\u001b[1;32m      2\u001b[0m     S_, L_, I_, A_ \u001b[38;5;241m=\u001b[39m y\n\u001b[0;32m----> 3\u001b[0m     nu_ \u001b[38;5;241m=\u001b[39m \u001b[43mnu_interp\u001b[49m\u001b[43m(\u001b[49m\u001b[43mt\u001b[49m\u001b[43m)\u001b[49m\n\u001b[1;32m      4\u001b[0m     \u001b[38;5;28;01mreturn\u001b[39;00m dHdl_fn(\u001b[38;5;241m0\u001b[39m, \u001b[38;5;241m0\u001b[39m, \u001b[38;5;241m0\u001b[39m, \u001b[38;5;241m0\u001b[39m, S_, L_, I_, A_, beta_, sigma_, kappa_, alpha_, tau_, p_, eta_, epsilon_, q_, delta_, P, Q, nu_)[\u001b[38;5;241m0\u001b[39m]\n",
      "Cell \u001b[0;32mIn [67], line 13\u001b[0m, in \u001b[0;36m<lambda>\u001b[0;34m(tc)\u001b[0m\n\u001b[1;32m     10\u001b[0m old_cost \u001b[38;5;241m=\u001b[39m \u001b[38;5;241m1E8\u001b[39m\n\u001b[1;32m     11\u001b[0m \u001b[38;5;28;01mfor\u001b[39;00m it \u001b[38;5;129;01min\u001b[39;00m \u001b[38;5;28mrange\u001b[39m(MaxIter \u001b[38;5;241m+\u001b[39m \u001b[38;5;241m1\u001b[39m):\n\u001b[1;32m     12\u001b[0m     \u001b[38;5;66;03m# State\u001b[39;00m\n\u001b[0;32m---> 13\u001b[0m     nu_intp \u001b[38;5;241m=\u001b[39m \u001b[38;5;28;01mlambda\u001b[39;00m tc: \u001b[43mnp\u001b[49m\u001b[38;5;241;43m.\u001b[39;49m\u001b[43minterp\u001b[49m\u001b[43m(\u001b[49m\u001b[43mtc\u001b[49m\u001b[43m,\u001b[49m\u001b[43m \u001b[49m\u001b[43mt\u001b[49m\u001b[43m,\u001b[49m\u001b[43m \u001b[49m\u001b[43mnu0\u001b[49m\u001b[43m)\u001b[49m\n\u001b[1;32m     14\u001b[0m     sol \u001b[38;5;241m=\u001b[39m odeint(sliar_by_sympy, y0, t, args\u001b[38;5;241m=\u001b[39m(beta, sigma, kappa, alpha, tau, p, eta, epsilon, q, delta, P, Q, nu_intp))\n\u001b[1;32m     16\u001b[0m     \u001b[38;5;66;03m# Cost\u001b[39;00m\n",
      "File \u001b[0;32m<__array_function__ internals>:180\u001b[0m, in \u001b[0;36minterp\u001b[0;34m(*args, **kwargs)\u001b[0m\n",
      "File \u001b[0;32m/opt/anaconda3/envs/epi/lib/python3.10/site-packages/numpy/lib/function_base.py:1594\u001b[0m, in \u001b[0;36minterp\u001b[0;34m(x, xp, fp, left, right, period)\u001b[0m\n\u001b[1;32m   1591\u001b[0m     xp \u001b[39m=\u001b[39m np\u001b[39m.\u001b[39mconcatenate((xp[\u001b[39m-\u001b[39m\u001b[39m1\u001b[39m:]\u001b[39m-\u001b[39mperiod, xp, xp[\u001b[39m0\u001b[39m:\u001b[39m1\u001b[39m]\u001b[39m+\u001b[39mperiod))\n\u001b[1;32m   1592\u001b[0m     fp \u001b[39m=\u001b[39m np\u001b[39m.\u001b[39mconcatenate((fp[\u001b[39m-\u001b[39m\u001b[39m1\u001b[39m:], fp, fp[\u001b[39m0\u001b[39m:\u001b[39m1\u001b[39m]))\n\u001b[0;32m-> 1594\u001b[0m \u001b[39mreturn\u001b[39;00m interp_func(x, xp, fp, left, right)\n",
      "\u001b[0;31mValueError\u001b[0m: object too deep for desired array"
     ]
    }
   ],
   "source": [
    "# Initial\n",
    "y0 = np.array([S0, L0, I0, A0])\n",
    "t = np.linspace(t0, tf, 301)\n",
    "dt = t[1] - t[0]\n",
    "#np.ones_like() : 동일한 사이즈로 ones 매트릭스 만듬\n",
    "nu0 = np.ones_like(t)\n",
    "\n",
    "MaxIter = 100000\n",
    "alpha = 1E-5\n",
    "old_cost = 1E8\n",
    "for it in range(MaxIter + 1):\n",
    "    # State (Forward)\n",
    "    nu_intp = lambda tc: np.interp(tc, t, nu0)\n",
    "    sol = odeint(sliar_by_sympy, y0, t, args=(beta, sigma, kappa, alpha, tau, p, eta, epsilon, q, delta, P, Q, nu_intp))\n",
    "\n",
    "    # Cost\n",
    "    S, L, I, A = np.hsplit(sol, 4)\n",
    "    S_mid = (S[1:] + S[:-1]) / 2.\n",
    "    L_mid = (L[1:] + L[:-1]) / 2.\n",
    "    I_mid = (I[1:] + I[:-1]) / 2.\n",
    "    A_mid = (A[1:] + A[:-1]) / 2.\n",
    "    nu_mid = (nu0[1:] + nu0[:-1]) / 2.\n",
    "    cost1 = dt * np.sum(I_mid.flatten())\n",
    "    cost2 = dt * np.sum(nu_mid.flatten() ** 2)\n",
    "    cost = cost1 + cost2\n",
    "\n",
    "    # Adjoint (Backward)\n",
    "    nu_intp = lambda tc: np.interp(tf - tc, t, nu0)\n",
    "    x_intp = lambda tc: np.array([np.interp(tf - tc, t, sol[:, 0]), np.interp(tf - tc, t, sol[:, 1]), np.interp(tf - tc, t, sol[:, 2]), np.interp(tf - tc, t, sol[:, 3])])\n",
    "    y_T = np.array([0,0,0,0])\n",
    "    l_sol = odeint(adjoint_sliar_by_sympy, y_T, t, args=(x_intp, beta, sigma, kappa, alpha, tau, p, eta, epsilon, q, delta, P, Q, nu_intp))\n",
    "\n",
    "\n",
    "    # Simple Gradient\n",
    "    # FOR optimality condition\n",
    "    Hnu = 2 * P * nu0 - l_sol[:,0] * sol[:, 0]\n",
    "    nu1 = np.clip(nu0 - alpha * Hnu , 0, 1)\n",
    "\n",
    "    if old_cost > cost:\n",
    "        alpha = alpha / 10 # simple adaptive learning rate\n",
    "\n",
    "    # Convergence\n",
    "    if np.abs(old_cost - cost) / alpha  <= 1E-7:\n",
    "        break\n",
    "\n",
    "    old_cost = cost\n",
    "    nu0 = nu1\n"
   ]
  },
  {
   "cell_type": "code",
   "execution_count": null,
   "id": "cc53e9bb",
   "metadata": {},
   "outputs": [
    {
     "name": "stdout",
     "output_type": "stream",
     "text": [
      "Matrix([[-S*lambda_S + 2*nu]])\n",
      "362\n",
      "162629186.59070295\n"
     ]
    }
   ],
   "source": [
    "print(dHdnu)\n",
    "print(it)\n",
    "print(cost)"
   ]
  },
  {
   "cell_type": "code",
   "execution_count": null,
   "id": "36e0214c",
   "metadata": {},
   "outputs": [
    {
     "data": {
      "text/plain": [
       "<Figure size 640x480 with 0 Axes>"
      ]
     },
     "metadata": {},
     "output_type": "display_data"
    },
    {
     "data": {
      "image/png": "[encoded data removed]",
      "text/plain": [
       "<Figure size 640x480 with 2 Axes>"
      ]
     },
     "metadata": {},
     "output_type": "display_data"
    },
    {
     "data": {
      "image/png": "[encoded data removed]",
      "text/plain": [
       "<Figure size 640x480 with 1 Axes>"
      ]
     },
     "metadata": {},
     "output_type": "display_data"
    }
   ],
   "source": [
    "import matplotlib.pylab as plt\n",
    "plt.clf()\n",
    "fig, ax1 = plt.subplots()\n",
    "ax1.plot(t, sol[:,0], '.-b', label = 'S')\n",
    "ax1.legend(loc='upper left')\n",
    "ax2 = ax1.twinx()\n",
    "ax2.plot(t, sol[:,1], '.-y', label = 'L')\n",
    "ax2.plot(t, sol[:,2], '.-r', label = 'I')\n",
    "ax2.plot(t, sol[:,3], '.-g', label = 'A')\n",
    "ax2.legend(loc='lower right')\n",
    "plt.grid()\n",
    "plt.legend()\n",
    "plt.title('SLIAR model without control')\n",
    "plt.xlabel('day')\n",
    "plt.savefig('SLIAR_wo_control_adj.png', dpi=300)\n",
    "plt.show(block=False)\n",
    "\n",
    "\n",
    "plt.plot(t, nu0)\n",
    "plt.grid()\n",
    "plt.show()"
   ]
  }
 ],
 "metadata": {
  "kernelspec": {
   "display_name": "Python 3.10.8 ('epi')",
   "language": "python",
   "name": "python3"
  },
  "language_info": {
   "codemirror_mode": {
    "name": "ipython",
    "version": 3
   },
   "file_extension": ".py",
   "mimetype": "text/x-python",
   "name": "python",
   "nbconvert_exporter": "python",
   "pygments_lexer": "ipython3",
   "version": "3.10.8"
  },
  "vscode": {
   "interpreter": {
    "hash": "2c9536bba0972c0ce9f364af87873760aac530bfb0bd7aa5f58a221fe4207ade"
   }
  }
 },
 "nbformat": 4,
 "nbformat_minor": 5
}
