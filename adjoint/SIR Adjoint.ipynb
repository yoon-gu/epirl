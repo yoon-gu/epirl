{
 "cells": [
  {
   "cell_type": "code",
   "execution_count": 1,
   "id": "a8cbceb1",
   "metadata": {},
   "outputs": [],
   "source": [
    "import numpy as np\n",
    "from scipy.integrate import odeint\n",
    "from scipy.interpolate import interp1d"
   ]
  },
  {
   "cell_type": "code",
   "execution_count": 2,
   "id": "3c89c4a5",
   "metadata": {},
   "outputs": [],
   "source": [
    "def sir(y, t, beta, gamma, u_interp):\n",
    "    S, I = y\n",
    "    return np.array([-beta * S * I - u_interp(t) * S, beta * S * I - gamma * I])"
   ]
  },
  {
   "cell_type": "code",
   "execution_count": 3,
   "id": "df629cc5",
   "metadata": {},
   "outputs": [],
   "source": [
    "def adjoint_sir(y, t, x_interp, beta, gamma, w1, w2, w3, u_interp):\n",
    "    l_S, l_I = y\n",
    "    S, I = x_interp(t)\n",
    "    u = u_interp(t)\n",
    "    dHdS = w2 * u + beta * I * (l_I - l_S) - u * l_S\n",
    "    dHdI = w1 + beta * S * (l_I - l_S) - gamma * l_I\n",
    "    return -np.array([dHdS, dHdI])"
   ]
  },
  {
   "cell_type": "code",
   "execution_count": 4,
   "id": "df8dacf6",
   "metadata": {},
   "outputs": [],
   "source": [
    "import sympy as sp\n",
    "\n",
    "S, I, u = sp.symbols('S I u')\n",
    "alpha, beta, gamma = sp.symbols('alpha beta gamma')\n",
    "\n",
    "l_S, l_I = sp.symbols('lambda_S lambda_I')\n",
    "l = sp.Matrix([l_S, l_I])\n",
    "\n",
    "f = I + u*S + u**2\n",
    "g = sp.Matrix([-beta*S*I -u*S, beta*S*I - gamma*I])\n",
    "\n",
    "H = sp.Matrix([f + l.dot(g)])"
   ]
  },
  {
   "cell_type": "code",
   "execution_count": 5,
   "id": "a5316041",
   "metadata": {},
   "outputs": [
    {
     "data": {
      "text/latex": [
       "$\\displaystyle I + S u + \\lambda_{I} \\left(I S \\beta - I \\gamma\\right) + \\lambda_{S} \\left(- I S \\beta - S u\\right) + u^{2}$"
      ],
      "text/plain": [
       "I + S*u + lambda_I*(I*S*beta - I*gamma) + lambda_S*(-I*S*beta - S*u) + u**2"
      ]
     },
     "execution_count": 5,
     "metadata": {},
     "output_type": "execute_result"
    }
   ],
   "source": [
    "H[0]"
   ]
  },
  {
   "cell_type": "code",
   "execution_count": 6,
   "id": "0c7fa9ff",
   "metadata": {},
   "outputs": [
    {
     "data": {
      "text/plain": [
       "'I + S u + \\\\lambda_{I} \\\\left(I S \\\\beta - I \\\\gamma\\\\right) + \\\\lambda_{S} \\\\left(- I S \\\\beta - S u\\\\right) + u^{2}'"
      ]
     },
     "execution_count": 6,
     "metadata": {},
     "output_type": "execute_result"
    }
   ],
   "source": [
    "sp.latex(H[0])"
   ]
  },
  {
   "cell_type": "code",
   "execution_count": 7,
   "id": "60ebe18b",
   "metadata": {},
   "outputs": [
    {
     "data": {
      "text/latex": [
       "$\\displaystyle \\left[\\begin{matrix}I \\beta \\lambda_{I} + \\lambda_{S} \\left(- I \\beta - u\\right) + u & - S \\beta \\lambda_{S} + \\lambda_{I} \\left(S \\beta - \\gamma\\right) + 1\\end{matrix}\\right]$"
      ],
      "text/plain": [
       "Matrix([[I*beta*lambda_I + lambda_S*(-I*beta - u) + u, -S*beta*lambda_S + lambda_I*(S*beta - gamma) + 1]])"
      ]
     },
     "execution_count": 7,
     "metadata": {},
     "output_type": "execute_result"
    }
   ],
   "source": [
    "dHdx = H.jacobian([S, I])\n",
    "dHdx"
   ]
  },
  {
   "cell_type": "code",
   "execution_count": 8,
   "id": "c226f61c",
   "metadata": {},
   "outputs": [
    {
     "data": {
      "text/latex": [
       "$\\displaystyle \\left[\\begin{matrix}- I S \\beta - S u & I S \\beta - I \\gamma\\end{matrix}\\right]$"
      ],
      "text/plain": [
       "Matrix([[-I*S*beta - S*u, I*S*beta - I*gamma]])"
      ]
     },
     "execution_count": 8,
     "metadata": {},
     "output_type": "execute_result"
    }
   ],
   "source": [
    "dHdl = H.jacobian([l_S, l_I])\n",
    "dHdl"
   ]
  },
  {
   "cell_type": "code",
   "execution_count": 9,
   "id": "2f32ce40",
   "metadata": {},
   "outputs": [
    {
     "data": {
      "text/latex": [
       "$\\displaystyle \\left[\\begin{matrix}- S \\lambda_{S} + S + 2 u\\end{matrix}\\right]$"
      ],
      "text/plain": [
       "Matrix([[-S*lambda_S + S + 2*u]])"
      ]
     },
     "execution_count": 9,
     "metadata": {},
     "output_type": "execute_result"
    }
   ],
   "source": [
    "dHdu = H.jacobian([u])\n",
    "dHdu"
   ]
  },
  {
   "cell_type": "code",
   "execution_count": 10,
   "id": "c7f28c70",
   "metadata": {},
   "outputs": [],
   "source": [
    "dHdx_fn = sp.lambdify([l_S, l_I, S, I, beta, gamma, u], dHdx)\n",
    "dHdl_fn = sp.lambdify([l_S, l_I, S, I, beta, gamma, u], dHdl)\n",
    "dHdu_fn = sp.lambdify([l_S, l_I, S, I, beta, gamma, u], dHdu)"
   ]
  },
  {
   "cell_type": "code",
   "execution_count": 11,
   "id": "5b7110d6",
   "metadata": {},
   "outputs": [],
   "source": [
    "def sir_by_sympy(y, t, beta_, gamma_, u_interp):\n",
    "    S_, I_ = y\n",
    "    u_ = u_interp(t)\n",
    "    return dHdl_fn(0, 0, S_, I_, beta_, gamma_, u_)[0]"
   ]
  },
  {
   "cell_type": "code",
   "execution_count": 12,
   "id": "0823e17e",
   "metadata": {},
   "outputs": [],
   "source": [
    "def adjoint_sir_by_sympy(y, t, x_interp, beta_, gamma_, w1, w2, w3, u_interp):\n",
    "    l_S_, l_I_ = y\n",
    "    S_, I_ = x_interp(t)\n",
    "    u_ = u_interp(t)\n",
    "    val = -dHdx_fn(l_S_, l_I_, S_, I_, beta_, gamma_, u_)[0]\n",
    "    return val"
   ]
  },
  {
   "cell_type": "code",
   "execution_count": 13,
   "id": "9e509f73",
   "metadata": {},
   "outputs": [],
   "source": [
    "t0 = 0\n",
    "tf = 30\n",
    "beta = 0.002\n",
    "gamma = 0.5\n",
    "S0 = 990\n",
    "I0 = 10\n",
    "w1, w2, w3 = 1, 1, 1"
   ]
  },
  {
   "cell_type": "code",
   "execution_count": 14,
   "id": "59f40d36",
   "metadata": {},
   "outputs": [],
   "source": [
    "# Initial\n",
    "y0 = np.array([S0, I0])\n",
    "t = np.linspace(t0,tf, 301)\n",
    "dt = t[1] - t[0]\n",
    "u0 = np.ones_like(t)"
   ]
  },
  {
   "cell_type": "code",
   "execution_count": 15,
   "id": "3e34192b",
   "metadata": {},
   "outputs": [],
   "source": [
    "# Initial\n",
    "y0 = np.array([S0, I0])\n",
    "t = np.linspace(t0,tf, 301)\n",
    "dt = t[1] - t[0]\n",
    "u0 = np.ones_like(t)\n",
    "\n",
    "MaxIter = 500 + 1\n",
    "alpha = 1E-1\n",
    "old_cost = 1E8\n",
    "for it in range(MaxIter):\n",
    "    # State\n",
    "    u_intp = lambda tc: np.interp(tc, t, u0)\n",
    "    sol = odeint(sir_by_sympy, y0, t, args=(beta, gamma, u_intp))\n",
    "\n",
    "    # Cost\n",
    "    S, I = np.hsplit(sol, 2)\n",
    "    S_mid = (S[1:] + S[:-1]) / 2.\n",
    "    I_mid = (I[1:] + I[:-1]) / 2.\n",
    "    u_mid = (u0[1:] + u0[:-1]) / 2.\n",
    "    cost1 = dt * w1 * np.sum(I_mid.flatten())\n",
    "    cost2 = dt * w2 * np.sum(S_mid.flatten() * u_mid)\n",
    "    cost3 = dt * w3 * np.sum(u_mid.flatten() ** 2)\n",
    "    cost = cost1 + cost2 + cost3\n",
    "\n",
    "    # Adjoint\n",
    "    u_intp = lambda tc: np.interp(tf - tc, t, u0)\n",
    "    x_intp = lambda tc: np.array([np.interp(tf - tc, t, sol[:, 0]), np.interp(tf - tc, t, sol[:, 1])])\n",
    "    y_T = np.array([0,0])\n",
    "    l_sol = odeint(adjoint_sir_by_sympy, y_T, t, args=(x_intp, beta, gamma, w1, w2, w3, u_intp))\n",
    "    l_sol = np.flipud(l_sol)\n",
    "\n",
    "    # Simple Gradient\n",
    "    # Hu = w2 * sol[:, 0] + 2 * w3 * u0 - l_sol[:,0] * sol[:, 0]\n",
    "    Hu = dHdu_fn(l_sol[:,0], l_sol[:,1], sol[:, 0], sol[:, 1], beta, gamma, u0)[0][0]\n",
    "    u1 = np.clip(u0 - alpha * Hu , 0, 1)\n",
    "    if old_cost < cost:\n",
    "        alpha = alpha / 1.1 # simple adaptive learning rate\n",
    "\n",
    "    # Convergence\n",
    "    if np.abs(old_cost - cost) / alpha  <= 1E-7:\n",
    "        break\n",
    "\n",
    "    old_cost = cost\n",
    "    u0 = u1"
   ]
  },
  {
   "cell_type": "code",
   "execution_count": 16,
   "id": "cc53e9bb",
   "metadata": {},
   "outputs": [
    {
     "data": {
      "text/latex": [
       "$\\displaystyle \\left[\\begin{matrix}- S \\lambda_{S} + S + 2 u\\end{matrix}\\right]$"
      ],
      "text/plain": [
       "Matrix([[-S*lambda_S + S + 2*u]])"
      ]
     },
     "execution_count": 16,
     "metadata": {},
     "output_type": "execute_result"
    }
   ],
   "source": [
    "dHdu"
   ]
  },
  {
   "cell_type": "code",
   "execution_count": 17,
   "id": "36e0214c",
   "metadata": {},
   "outputs": [
    {
     "data": {
      "image/png": "[encoded data removed]",
      "text/plain": [
       "<Figure size 640x480 with 1 Axes>"
      ]
     },
     "metadata": {},
     "output_type": "display_data"
    },
    {
     "data": {
      "image/png": "[encoded data removed]",
      "text/plain": [
       "<Figure size 640x480 with 1 Axes>"
      ]
     },
     "metadata": {},
     "output_type": "display_data"
    }
   ],
   "source": [
    "import matplotlib.pylab as plt\n",
    "plt.plot(t, sol)\n",
    "plt.grid()\n",
    "plt.show()\n",
    "\n",
    "plt.plot(t, u0)\n",
    "plt.grid()\n",
    "plt.show()"
   ]
  },
  {
   "cell_type": "code",
   "execution_count": null,
   "id": "61852dfb",
   "metadata": {},
   "outputs": [],
   "source": []
  }
 ],
 "metadata": {
  "kernelspec": {
   "display_name": "Python 3 (ipykernel)",
   "language": "python",
   "name": "python3"
  },
  "language_info": {
   "codemirror_mode": {
    "name": "ipython",
    "version": 3
   },
   "file_extension": ".py",
   "mimetype": "text/x-python",
   "name": "python",
   "nbconvert_exporter": "python",
   "pygments_lexer": "ipython3",
   "version": "3.10.5"
  }
 },
 "nbformat": 4,
 "nbformat_minor": 5
}
